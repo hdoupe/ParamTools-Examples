{
 "cells": [
  {
   "cell_type": "code",
   "execution_count": 1,
   "metadata": {},
   "outputs": [],
   "source": [
    "import inspect\n",
    "from typing import Callable\n",
    "\n",
    "import numba\n",
    "import paramtools"
   ]
  },
  {
   "cell_type": "code",
   "execution_count": 2,
   "metadata": {},
   "outputs": [],
   "source": [
    "class Parameters(paramtools.Parameters):\n",
    "    defaults = {\n",
    "        \"a\": {\n",
    "            \"title\": \"A\",\n",
    "            \"description\": \"\",\n",
    "            \"type\": \"int\",\n",
    "            \"value\": [\n",
    "                {\"label1\": 0, \"label2\": \"one\", \"value\": 1},\n",
    "                {\"label1\": 0, \"label2\": \"two\", \"value\": 2},\n",
    "                {\"label1\": 0, \"label2\": \"three\", \"value\": 3},\n",
    "            ]\n",
    "        },\n",
    "        \"b\": {\n",
    "            \"title\": \"B\",\n",
    "            \"description\": \"\",\n",
    "            \"type\": \"float\",\n",
    "            \"value\": [\n",
    "                {\"label1\": 0, \"label2\": \"one\", \"value\": 2.5},\n",
    "                {\"label1\": 0, \"label2\": \"two\", \"value\": 7.3},\n",
    "                {\"label1\": 0, \"label2\": \"three\", \"value\": 4.4},\n",
    "            ]\n",
    "        },\n",
    "        \"schema\": {\n",
    "            \"labels\": {\n",
    "                \"label1\": {\n",
    "                    \"type\": \"int\", \n",
    "                    \"validators\": {\"range\": {\"min\": 0, \"max\": 10}}\n",
    "                },\n",
    "                \"label2\": {\n",
    "                    \"type\": \"str\",\n",
    "                    \"validators\": {\"choice\": {\"choices\": [\"one\", \"two\", \"three\"]}}\n",
    "                }\n",
    "            }\n",
    "        }\n",
    "    }\n",
    "    array_first = True\n",
    "    label_to_extend = \"label1\""
   ]
  },
  {
   "cell_type": "code",
   "execution_count": 3,
   "metadata": {},
   "outputs": [],
   "source": [
    "params = Parameters()"
   ]
  },
  {
   "cell_type": "code",
   "execution_count": 4,
   "metadata": {},
   "outputs": [
    {
     "data": {
      "text/plain": [
       "array([[1, 2, 3],\n",
       "       [1, 2, 3],\n",
       "       [1, 2, 3],\n",
       "       [1, 2, 3],\n",
       "       [1, 2, 3],\n",
       "       [1, 2, 3],\n",
       "       [1, 2, 3],\n",
       "       [1, 2, 3],\n",
       "       [1, 2, 3],\n",
       "       [1, 2, 3],\n",
       "       [1, 2, 3]])"
      ]
     },
     "execution_count": 4,
     "metadata": {},
     "output_type": "execute_result"
    }
   ],
   "source": [
    "params.a"
   ]
  },
  {
   "cell_type": "code",
   "execution_count": 5,
   "metadata": {},
   "outputs": [
    {
     "data": {
      "text/plain": [
       "array([[2.5, 7.3, 4.4],\n",
       "       [2.5, 7.3, 4.4],\n",
       "       [2.5, 7.3, 4.4],\n",
       "       [2.5, 7.3, 4.4],\n",
       "       [2.5, 7.3, 4.4],\n",
       "       [2.5, 7.3, 4.4],\n",
       "       [2.5, 7.3, 4.4],\n",
       "       [2.5, 7.3, 4.4],\n",
       "       [2.5, 7.3, 4.4],\n",
       "       [2.5, 7.3, 4.4],\n",
       "       [2.5, 7.3, 4.4]])"
      ]
     },
     "execution_count": 5,
     "metadata": {},
     "output_type": "execute_result"
    }
   ],
   "source": [
    "params.b"
   ]
  },
  {
   "cell_type": "code",
   "execution_count": 6,
   "metadata": {},
   "outputs": [],
   "source": [
    "def add(a, b):\n",
    "    return a + b"
   ]
  },
  {
   "cell_type": "code",
   "execution_count": 7,
   "metadata": {},
   "outputs": [],
   "source": [
    "@numba.jit\n",
    "def addjit(a, b):\n",
    "    return a + b"
   ]
  },
  {
   "cell_type": "code",
   "execution_count": 8,
   "metadata": {},
   "outputs": [],
   "source": [
    "def call(params, func):\n",
    "    sig = inspect.signature(func)\n",
    "    t = []\n",
    "    for arg in sig.parameters:\n",
    "        t.append(\n",
    "            getattr(params, arg)\n",
    "        )\n",
    "    return func(*t)"
   ]
  },
  {
   "cell_type": "code",
   "execution_count": 9,
   "metadata": {},
   "outputs": [
    {
     "data": {
      "text/plain": [
       "array([[3.5, 9.3, 7.4],\n",
       "       [3.5, 9.3, 7.4],\n",
       "       [3.5, 9.3, 7.4],\n",
       "       [3.5, 9.3, 7.4],\n",
       "       [3.5, 9.3, 7.4],\n",
       "       [3.5, 9.3, 7.4],\n",
       "       [3.5, 9.3, 7.4],\n",
       "       [3.5, 9.3, 7.4],\n",
       "       [3.5, 9.3, 7.4],\n",
       "       [3.5, 9.3, 7.4],\n",
       "       [3.5, 9.3, 7.4]])"
      ]
     },
     "execution_count": 9,
     "metadata": {},
     "output_type": "execute_result"
    }
   ],
   "source": [
    "call(params, add)"
   ]
  },
  {
   "cell_type": "code",
   "execution_count": 10,
   "metadata": {},
   "outputs": [
    {
     "data": {
      "text/plain": [
       "array([[3.5, 9.3, 7.4],\n",
       "       [3.5, 9.3, 7.4],\n",
       "       [3.5, 9.3, 7.4],\n",
       "       [3.5, 9.3, 7.4],\n",
       "       [3.5, 9.3, 7.4],\n",
       "       [3.5, 9.3, 7.4],\n",
       "       [3.5, 9.3, 7.4],\n",
       "       [3.5, 9.3, 7.4],\n",
       "       [3.5, 9.3, 7.4],\n",
       "       [3.5, 9.3, 7.4],\n",
       "       [3.5, 9.3, 7.4]])"
      ]
     },
     "execution_count": 10,
     "metadata": {},
     "output_type": "execute_result"
    }
   ],
   "source": [
    "call(params, addjit)"
   ]
  },
  {
   "cell_type": "code",
   "execution_count": 11,
   "metadata": {},
   "outputs": [
    {
     "data": {
      "text/plain": [
       "{'a': <Parameter \"a\">, 'b': <Parameter \"b\">}"
      ]
     },
     "execution_count": 11,
     "metadata": {},
     "output_type": "execute_result"
    }
   ],
   "source": [
    "sig = inspect.signature(add)\n",
    "dict(sig.parameters)"
   ]
  },
  {
   "cell_type": "code",
   "execution_count": 12,
   "metadata": {},
   "outputs": [
    {
     "data": {
      "text/plain": [
       "array([[3.5, 9.3, 7.4],\n",
       "       [3.5, 9.3, 7.4],\n",
       "       [3.5, 9.3, 7.4],\n",
       "       [3.5, 9.3, 7.4],\n",
       "       [3.5, 9.3, 7.4],\n",
       "       [3.5, 9.3, 7.4],\n",
       "       [3.5, 9.3, 7.4],\n",
       "       [3.5, 9.3, 7.4],\n",
       "       [3.5, 9.3, 7.4],\n",
       "       [3.5, 9.3, 7.4],\n",
       "       [3.5, 9.3, 7.4]])"
      ]
     },
     "execution_count": 12,
     "metadata": {},
     "output_type": "execute_result"
    }
   ],
   "source": [
    "add(\n",
    "    getattr(params, \"a\"),\n",
    "    getattr(params, \"b\")\n",
    ")"
   ]
  },
  {
   "cell_type": "code",
   "execution_count": null,
   "metadata": {},
   "outputs": [],
   "source": []
  }
 ],
 "metadata": {
  "kernelspec": {
   "display_name": "Python (paramtools-dev)",
   "language": "python",
   "name": "paramtools-dev"
  },
  "language_info": {
   "codemirror_mode": {
    "name": "ipython",
    "version": 3
   },
   "file_extension": ".py",
   "mimetype": "text/x-python",
   "name": "python",
   "nbconvert_exporter": "python",
   "pygments_lexer": "ipython3",
   "version": "3.7.3"
  }
 },
 "nbformat": 4,
 "nbformat_minor": 2
}
