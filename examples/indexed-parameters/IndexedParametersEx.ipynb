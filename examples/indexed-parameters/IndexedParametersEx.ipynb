{
 "cells": [
  {
   "cell_type": "markdown",
   "metadata": {},
   "source": [
    "# Parameter Indexing\n",
    "\n",
    "Parameter indexing is outside the scope of ParamTools. However, indexed parameters are an important part of many modeling projects and ParamTools is up to the challenge. Let's take a look at how one might implement indexed parameters with ParamTools."
   ]
  },
  {
   "cell_type": "markdown",
   "metadata": {},
   "source": [
    "Setup\n",
    "--------------------------\n",
    "\n",
    "The TaxParams parameters will be used to demonstrate parameter indexing. These parameters are based directly on the Tax-Calculator policy parameters. Tax-Calculator does serious parameter indexing since many of its parameters depend on inflation and wage growth rates. This tutorial demonstrates how you can replicate that same level of parameter indexing with ParamTools.\n",
    "\n",
    "The approach for this tutorial is to build a `IndexedParameters` class on top of `paramtools.Parameters`. This class can then be used by projects that require parameter indexing.\n",
    "\n",
    "### Get the code and the data\n",
    "\n",
    "1. Clone the ParamTools repo: https://github.com/PSLmodels/ParamTools\n",
    "2. Install paramtools\n",
    "    ```\n",
    "    conda create -n paramtools-env numpy taxcalc pip -c pslmodels\n",
    "    conda activate paramtools-env\n",
    "    # do a local install (temporary) \n",
    "    cd ParamTools/\n",
    "    pip install -e .\n",
    "    ```\n",
    "3. Change directories to `ParamTools/paramtools/examples/taparams-demo`\n",
    "\n"
   ]
  },
  {
   "cell_type": "code",
   "execution_count": 1,
   "metadata": {},
   "outputs": [],
   "source": [
    "# quick helper to print stuff out nicely.\n",
    "def pprint(vals):\n",
    "    for v in vals:\n",
    "        print(v)"
   ]
  },
  {
   "cell_type": "markdown",
   "metadata": {},
   "source": [
    "### TaxParams\n",
    "\n",
    "Before we get started, let's make sure that the TaxParams can be loaded."
   ]
  },
  {
   "cell_type": "code",
   "execution_count": 2,
   "metadata": {},
   "outputs": [
    {
     "name": "stdout",
     "output_type": "stream",
     "text": [
      "EITC celing max year:  2018 \n",
      "\n",
      "EITC ceiling ceiling as dict: \n",
      "{'value': 487.0, 'EIC': '0kids', 'year': 2013}\n",
      "{'value': 3250.0, 'EIC': '1kid', 'year': 2013}\n",
      "{'value': 5372.0, 'EIC': '2kids', 'year': 2013}\n",
      "{'value': 6044.0, 'EIC': '3+kids', 'year': 2013}\n",
      "{'value': 496.0, 'EIC': '0kids', 'year': 2014}\n",
      "{'value': 3305.0, 'EIC': '1kid', 'year': 2014}\n",
      "{'value': 5460.0, 'EIC': '2kids', 'year': 2014}\n",
      "{'value': 6143.0, 'EIC': '3+kids', 'year': 2014}\n",
      "{'value': 503.0, 'EIC': '0kids', 'year': 2015}\n",
      "{'value': 3359.0, 'EIC': '1kid', 'year': 2015}\n",
      "{'value': 5548.0, 'EIC': '2kids', 'year': 2015}\n",
      "{'value': 6242.0, 'EIC': '3+kids', 'year': 2015}\n",
      "{'value': 506.0, 'EIC': '0kids', 'year': 2016}\n",
      "{'value': 3373.0, 'EIC': '1kid', 'year': 2016}\n",
      "{'value': 5572.0, 'EIC': '2kids', 'year': 2016}\n",
      "{'value': 6269.0, 'EIC': '3+kids', 'year': 2016}\n",
      "{'value': 510.0, 'EIC': '0kids', 'year': 2017}\n",
      "{'value': 3400.0, 'EIC': '1kid', 'year': 2017}\n",
      "{'value': 5616.0, 'EIC': '2kids', 'year': 2017}\n",
      "{'value': 6318.0, 'EIC': '3+kids', 'year': 2017}\n",
      "{'value': 519.0, 'EIC': '0kids', 'year': 2018}\n",
      "{'value': 3461.0, 'EIC': '1kid', 'year': 2018}\n",
      "{'value': 5716.0, 'EIC': '2kids', 'year': 2018}\n",
      "{'value': 6431.0, 'EIC': '3+kids', 'year': 2018}\n"
     ]
    }
   ],
   "source": [
    "from marshmallow import Schema, fields\n",
    "\n",
    "import paramtools\n",
    "\n",
    "# first define the compatible data custom field.\n",
    "class CompatibleDataSchema(Schema):\n",
    "    \"\"\"\n",
    "    Schema for Compatible data object\n",
    "    {\n",
    "        \"compatible_data\": {\"data1\": bool, \"data2\": bool, ...}\n",
    "    }\n",
    "    \"\"\"\n",
    "\n",
    "    puf = fields.Boolean()\n",
    "    cps = fields.Boolean()\n",
    "\n",
    "class TaxParams(paramtools.Parameters):\n",
    "    # You need to be in the paramtools/examples/taxparams directory!\n",
    "    schema = \"schema.json\"\n",
    "    defaults = \"defaults.json\"\n",
    "    field_map = {\"compatible_data\": fields.Nested(CompatibleDataSchema())}\n",
    "\n",
    "params = TaxParams()\n",
    "print(\"EITC celing max year: \", max(map(lambda x: x[\"year\"], params._EITC_c)), \"\\n\")\n",
    "print(\"EITC ceiling ceiling as dict: \")\n",
    "pprint(params._EITC_c)"
   ]
  },
  {
   "cell_type": "markdown",
   "metadata": {},
   "source": [
    "Extend Parameters\n",
    "------------------------\n",
    "\n",
    "To get started, the ability to extend parameters through a given year needs to be added to ParamTools. This is done by finding the maximum specifed year for each parameter and duplicating each value object defined at this maximum year for the remaining years. For example, the maximum defined year for `_EITC_c` is 2018. There are four values defined in 2018. These four values will be extended for the remaining years, 2019 to 2028.\n",
    "\n",
    "```json\n",
    "[\n",
    "    {\"year\": 2018, \"value\": 519.0, \"EIC\": \"0kids\"}, \n",
    "    {\"year\": 2018, \"value\": 3461.0, \"EIC\": \"1kid\"}, \n",
    "    {\"year\": 2018, \"value\": 5716.0, \"EIC\": \"2kids\"}, \n",
    "    {\"year\": 2018, \"value\": 6431.0, \"EIC\": \"3+kids\"}\n",
    "]\n",
    "```"
   ]
  },
  {
   "cell_type": "code",
   "execution_count": 3,
   "metadata": {},
   "outputs": [
    {
     "name": "stdout",
     "output_type": "stream",
     "text": [
      "EITC celing max year:  2028 \n",
      "\n"
     ]
    }
   ],
   "source": [
    "from collections import defaultdict\n",
    "\n",
    "import paramtools\n",
    "\n",
    "class ExtendParameters(paramtools.Parameters):\n",
    "    \n",
    "    def __init__(self, *args, **kwargs):\n",
    "        super().__init__(*args, **kwargs)\n",
    "        self.extend()\n",
    "    \n",
    "    def extend(self):\n",
    "        \"\"\"\n",
    "        Guarantee that all parameters are defined for each year\n",
    "        from start year to end year.\n",
    "        \"\"\"\n",
    "        max_allowed_year = max(self._stateless_dim_mesh[\"year\"])\n",
    "        adjustment = defaultdict(list)\n",
    "        for param, data in self.specification(meta_data=True).items():\n",
    "            max_year = max(map(lambda x: x[\"year\"], data[\"value\"]))\n",
    "            if max_year == max_allowed_year:\n",
    "                continue\n",
    "            value_objects = self._get(param, True, year=max_year)\n",
    "            while max_year < max_allowed_year:\n",
    "                max_year += 1\n",
    "                for value_object in value_objects:\n",
    "                    adjustment[param].append(dict(value_object, **{\"year\": max_year}))\n",
    "        self.adjust(adjustment)\n",
    "\n",
    "\n",
    "class TaxParams(ExtendParameters):\n",
    "    schema = \"schema.json\"\n",
    "    defaults = \"defaults.json\"\n",
    "    field_map = {\"compatible_data\": fields.Nested(CompatibleDataSchema())}\n",
    "\n",
    "params = TaxParams()\n",
    "print(\"EITC celing max year: \", max(map(lambda x: x[\"year\"], params._EITC_c)), \"\\n\")"
   ]
  },
  {
   "cell_type": "markdown",
   "metadata": {},
   "source": [
    "We can activate the `array_first` mode, since all parameters have been extended across the year axis. This means that all parameter values will be available as arrays instead of a list of dictionaries, or [value-objects][1]. \n",
    "\n",
    "\n",
    "[1]: https://paramtools.readthedocs.io/en/latest/spec.html#value-object"
   ]
  },
  {
   "cell_type": "code",
   "execution_count": 4,
   "metadata": {},
   "outputs": [
    {
     "name": "stdout",
     "output_type": "stream",
     "text": [
      "EITC celing as array: \n",
      "[[ 487. 3250. 5372. 6044.]\n",
      " [ 496. 3305. 5460. 6143.]\n",
      " [ 503. 3359. 5548. 6242.]\n",
      " [ 506. 3373. 5572. 6269.]\n",
      " [ 510. 3400. 5616. 6318.]\n",
      " [ 519. 3461. 5716. 6431.]\n",
      " [ 519. 3461. 5716. 6431.]\n",
      " [ 519. 3461. 5716. 6431.]\n",
      " [ 519. 3461. 5716. 6431.]\n",
      " [ 519. 3461. 5716. 6431.]\n",
      " [ 519. 3461. 5716. 6431.]\n",
      " [ 519. 3461. 5716. 6431.]\n",
      " [ 519. 3461. 5716. 6431.]\n",
      " [ 519. 3461. 5716. 6431.]\n",
      " [ 519. 3461. 5716. 6431.]\n",
      " [ 519. 3461. 5716. 6431.]]\n"
     ]
    }
   ],
   "source": [
    "# all parameters can now be converted to arrays.\n",
    "params.array_first = True\n",
    "params.set_state()\n",
    "print(\"EITC celing as array: \")\n",
    "print(params._EITC_c)\n"
   ]
  },
  {
   "cell_type": "markdown",
   "metadata": {},
   "source": [
    "Note that 519, 3461, 5716, and 6431 have been set as the default value for year 2018 to 2028."
   ]
  },
  {
   "cell_type": "markdown",
   "metadata": {},
   "source": [
    "Indexed Parameters Intuition\n",
    "-----------------------------------\n",
    "\n",
    "\n",
    "The previous example shows how to extend parameter values along a given axis, like \"year\". However, what's really going on is that they are just repeated until the maximum year is reached. Now, it's time to index them at some specified rate.\n",
    "\n",
    "To \"grow\" a parameter forward a year, we need to multiply it by one plus the rate at which it is expected to grow or its recorded growth rate. First, let's generate some data:"
   ]
  },
  {
   "cell_type": "code",
   "execution_count": 5,
   "metadata": {},
   "outputs": [
    {
     "name": "stdout",
     "output_type": "stream",
     "text": [
      "{'year': 2013, 'MARS': 'single', 'value': 1000}\n",
      "{'year': 2013, 'MARS': 'joint', 'value': 1000}\n",
      "{'year': 2013, 'MARS': 'separate', 'value': 1000}\n",
      "{'year': 2013, 'MARS': 'headhousehold', 'value': 1000}\n",
      "{'year': 2013, 'MARS': 'widow', 'value': 1000}\n",
      "{'year': 2014, 'MARS': 'single', 'value': 1001}\n",
      "{'year': 2014, 'MARS': 'joint', 'value': 1001}\n",
      "{'year': 2014, 'MARS': 'separate', 'value': 1001}\n",
      "{'year': 2014, 'MARS': 'headhousehold', 'value': 1001}\n",
      "{'year': 2014, 'MARS': 'widow', 'value': 1001}\n",
      "{'year': 2015, 'MARS': 'single', 'value': 1002}\n",
      "{'year': 2015, 'MARS': 'joint', 'value': 1002}\n",
      "{'year': 2015, 'MARS': 'separate', 'value': 1002}\n",
      "{'year': 2015, 'MARS': 'headhousehold', 'value': 1002}\n",
      "{'year': 2015, 'MARS': 'widow', 'value': 1002}\n",
      "{'year': 2016, 'MARS': 'single', 'value': 1003}\n",
      "{'year': 2016, 'MARS': 'joint', 'value': 1003}\n",
      "{'year': 2016, 'MARS': 'separate', 'value': 1003}\n",
      "{'year': 2016, 'MARS': 'headhousehold', 'value': 1003}\n",
      "{'year': 2016, 'MARS': 'widow', 'value': 1003}\n",
      "{'year': 2017, 'MARS': 'single', 'value': 1004}\n",
      "{'year': 2017, 'MARS': 'joint', 'value': 1004}\n",
      "{'year': 2017, 'MARS': 'separate', 'value': 1004}\n",
      "{'year': 2017, 'MARS': 'headhousehold', 'value': 1004}\n",
      "{'year': 2017, 'MARS': 'widow', 'value': 1004}\n",
      "{'year': 2018, 'MARS': 'single', 'value': 1005}\n",
      "{'year': 2018, 'MARS': 'joint', 'value': 1005}\n",
      "{'year': 2018, 'MARS': 'separate', 'value': 1005}\n",
      "{'year': 2018, 'MARS': 'headhousehold', 'value': 1005}\n",
      "{'year': 2018, 'MARS': 'widow', 'value': 1005}\n",
      "{'year': 2019, 'MARS': 'single', 'value': 1006}\n",
      "{'year': 2019, 'MARS': 'joint', 'value': 1006}\n",
      "{'year': 2019, 'MARS': 'separate', 'value': 1006}\n",
      "{'year': 2019, 'MARS': 'headhousehold', 'value': 1006}\n",
      "{'year': 2019, 'MARS': 'widow', 'value': 1006}\n"
     ]
    }
   ],
   "source": [
    "min_allowed_year = 2013\n",
    "max_allowed_year = 2028\n",
    "# max specified year\n",
    "max_year = 2019\n",
    "\n",
    "MARS = [\"single\", \"joint\", \"separate\", \"headhousehold\", \"widow\"]\n",
    "\n",
    "vals = [{\"year\": 2013 + i, \"MARS\": status, \"value\": 1000 + i} \n",
    "          for i in range(max_year - min_allowed_year + 1) \n",
    "          for status in MARS]\n",
    "\n",
    "pprint(vals)"
   ]
  },
  {
   "cell_type": "markdown",
   "metadata": {},
   "source": [
    "Second, we need to be able to to get the previous year's value, while taking into account the current value object's MARS value."
   ]
  },
  {
   "cell_type": "code",
   "execution_count": 6,
   "metadata": {},
   "outputs": [
    {
     "name": "stdout",
     "output_type": "stream",
     "text": [
      "Look up the value for MARS=single:  single val\n"
     ]
    }
   ],
   "source": [
    "def get_mars_lookup(value_objects):\n",
    "    \"\"\"Return dictionary where the MARS values are the keys.\"\"\"\n",
    "    return {vo[\"MARS\"]: {\"value\": vo[\"value\"]} for vo in value_objects}\n",
    "\n",
    "test_vals = [\n",
    "    {'year': 2013, 'MARS': 'single', 'value': 'single val'},\n",
    "    {'year': 2013, 'MARS': 'joint', 'value': 1000},\n",
    "    {'year': 2013, 'MARS': 'separate', 'value': 1000},\n",
    "    {'year': 2013, 'MARS': 'headhousehold', 'value': 1000},\n",
    "    {'year': 2013, 'MARS': 'widow', 'value': 1000}\n",
    "]\n",
    "mars_lookup_2013 = get_mars_lookup(test_vals)\n",
    "\n",
    "print(\"Look up the value for MARS=single: \", mars_lookup_2013[\"single\"][\"value\"])"
   ]
  },
  {
   "cell_type": "markdown",
   "metadata": {},
   "source": [
    "Finally, we extend and index the data."
   ]
  },
  {
   "cell_type": "code",
   "execution_count": 7,
   "metadata": {},
   "outputs": [
    {
     "name": "stdout",
     "output_type": "stream",
     "text": [
      "rates [0.0148, 0.0159, 0.0012, 0.0127, 0.0189, 0.0229, 0.0199, 0.0224, 0.0227, 0.0223, 0.0218, 0.0215, 0.0211, 0.021, 0.021, 0.0211]\n",
      "vals\n",
      "{'year': 2013, 'MARS': 'single', 'value': 1000}\n",
      "{'year': 2013, 'MARS': 'joint', 'value': 1000}\n",
      "{'year': 2013, 'MARS': 'separate', 'value': 1000}\n",
      "{'year': 2013, 'MARS': 'headhousehold', 'value': 1000}\n",
      "{'year': 2013, 'MARS': 'widow', 'value': 1000}\n",
      "{'year': 2014, 'MARS': 'single', 'value': 1001}\n",
      "{'year': 2014, 'MARS': 'joint', 'value': 1001}\n",
      "{'year': 2014, 'MARS': 'separate', 'value': 1001}\n",
      "{'year': 2014, 'MARS': 'headhousehold', 'value': 1001}\n",
      "{'year': 2014, 'MARS': 'widow', 'value': 1001}\n",
      "{'year': 2015, 'MARS': 'single', 'value': 1002}\n",
      "{'year': 2015, 'MARS': 'joint', 'value': 1002}\n",
      "{'year': 2015, 'MARS': 'separate', 'value': 1002}\n",
      "{'year': 2015, 'MARS': 'headhousehold', 'value': 1002}\n",
      "{'year': 2015, 'MARS': 'widow', 'value': 1002}\n",
      "{'year': 2016, 'MARS': 'single', 'value': 1003}\n",
      "{'year': 2016, 'MARS': 'joint', 'value': 1003}\n",
      "{'year': 2016, 'MARS': 'separate', 'value': 1003}\n",
      "{'year': 2016, 'MARS': 'headhousehold', 'value': 1003}\n",
      "{'year': 2016, 'MARS': 'widow', 'value': 1003}\n",
      "{'year': 2017, 'MARS': 'single', 'value': 1004}\n",
      "{'year': 2017, 'MARS': 'joint', 'value': 1004}\n",
      "{'year': 2017, 'MARS': 'separate', 'value': 1004}\n",
      "{'year': 2017, 'MARS': 'headhousehold', 'value': 1004}\n",
      "{'year': 2017, 'MARS': 'widow', 'value': 1004}\n",
      "result for a subsection of the values: \n",
      "{'year': 2018, 'MARS': 'single', 'value': 1005}\n",
      "{'year': 2018, 'MARS': 'joint', 'value': 1005}\n",
      "{'year': 2018, 'MARS': 'separate', 'value': 1005}\n",
      "{'year': 2018, 'MARS': 'headhousehold', 'value': 1005}\n",
      "{'year': 2018, 'MARS': 'widow', 'value': 1005}\n",
      "{'year': 2019, 'MARS': 'single', 'value': 1006}\n",
      "{'year': 2019, 'MARS': 'joint', 'value': 1006}\n",
      "{'year': 2019, 'MARS': 'separate', 'value': 1006}\n",
      "{'year': 2019, 'MARS': 'headhousehold', 'value': 1006}\n",
      "{'year': 2019, 'MARS': 'widow', 'value': 1006}\n",
      "{'year': 2020, 'MARS': 'single', 'value': 1026.02}\n",
      "{'year': 2020, 'MARS': 'joint', 'value': 1026.02}\n",
      "{'year': 2020, 'MARS': 'separate', 'value': 1026.02}\n",
      "{'year': 2020, 'MARS': 'headhousehold', 'value': 1026.02}\n",
      "{'year': 2020, 'MARS': 'widow', 'value': 1026.02}\n",
      "{'year': 2021, 'MARS': 'single', 'value': 1049.0}\n",
      "{'year': 2021, 'MARS': 'joint', 'value': 1049.0}\n",
      "{'year': 2021, 'MARS': 'separate', 'value': 1049.0}\n",
      "{'year': 2021, 'MARS': 'headhousehold', 'value': 1049.0}\n",
      "{'year': 2021, 'MARS': 'widow', 'value': 1049.0}\n",
      "{'year': 2022, 'MARS': 'single', 'value': 1072.81}\n",
      "{'year': 2022, 'MARS': 'joint', 'value': 1072.81}\n",
      "{'year': 2022, 'MARS': 'separate', 'value': 1072.81}\n",
      "{'year': 2022, 'MARS': 'headhousehold', 'value': 1072.81}\n",
      "{'year': 2022, 'MARS': 'widow', 'value': 1072.81}\n",
      "{'year': 2023, 'MARS': 'single', 'value': 1096.73}\n",
      "{'year': 2023, 'MARS': 'joint', 'value': 1096.73}\n",
      "{'year': 2023, 'MARS': 'separate', 'value': 1096.73}\n",
      "{'year': 2023, 'MARS': 'headhousehold', 'value': 1096.73}\n",
      "{'year': 2023, 'MARS': 'widow', 'value': 1096.73}\n",
      "...\n"
     ]
    }
   ],
   "source": [
    "import taxcalc\n",
    "import numpy as np\n",
    "\n",
    "# use taxcalc inflation rates\n",
    "rates = taxcalc.Policy().inflation_rates()\n",
    "\n",
    "print(\"rates\", rates)\n",
    "print(\"vals\")\n",
    "pprint(vals[:-10])\n",
    "\n",
    "for ix, year in enumerate(range(max_year + 1, max_allowed_year + 1)):\n",
    "    prev_year = year - 1\n",
    "    prev_year_vals = [val for val in vals if val[\"year\"] == prev_year]\n",
    "    mars_lookup = get_mars_lookup(prev_year_vals)\n",
    "    for status in MARS:\n",
    "        new_val = {\n",
    "            \"year\": year,\n",
    "            \"MARS\": status,\n",
    "            # previous value * inflation rate for current year!\n",
    "            \"value\": np.round(mars_lookup[status][\"value\"] * \n",
    "                              (1 + rates[max_year - min_allowed_year + ix]), 2)\n",
    "        }\n",
    "        vals.append(new_val)\n",
    "    \n",
    "print(\"result for a subsection of the values: \")\n",
    "pprint(vals[25:-25])\n",
    "print(\"...\")"
   ]
  },
  {
   "cell_type": "markdown",
   "metadata": {},
   "source": [
    "There you go. A simple indexing function. However, it's not going to work for `TaxParams` just yet. Tax-Calculator parameters could have other dimensions besides Marital Status, like Itemized Deduction type. Further, we need to check that the parameter needs to be indexed in the first place."
   ]
  },
  {
   "cell_type": "markdown",
   "metadata": {},
   "source": [
    "`IndexedParameters` Class\n",
    "-----------------------------\n",
    "\n",
    "`IndexedParameters` builds in the notions discussed in the previous section in a more general way. Additionally, it supports adjusting parameters and extending and indexing those new values. The `extend` method is pretty gnarly, but if you stare at it long enough, you'll notice that the `get_vo_lookup` corresponds to `get_mars_lookup` and the for loop boundaries are identical, among other similarities."
   ]
  },
  {
   "cell_type": "code",
   "execution_count": 8,
   "metadata": {},
   "outputs": [],
   "source": [
    "from collections import defaultdict\n",
    "\n",
    "import numpy as np\n",
    "from marshmallow import Schema, fields\n",
    "\n",
    "import paramtools\n",
    "\n",
    "import taxcalc\n",
    "\n",
    "\n",
    "class IndexedParameters(paramtools.Parameters):\n",
    "    def __init__(self):\n",
    "        super().__init__()\n",
    "        self.extend()\n",
    "\n",
    "    def extend(self, params_to_extend=None):\n",
    "        min_allowed_year = min(self._stateless_dim_mesh[\"year\"])\n",
    "        max_allowed_year = max(self._stateless_dim_mesh[\"year\"])\n",
    "        adjustment = defaultdict(list)\n",
    "        spec = self.specification(use_state=False, meta_data=True)\n",
    "        if params_to_extend is None:\n",
    "            param_data = spec\n",
    "        else:\n",
    "            param_data = {param: spec[param] for param in params_to_extend}\n",
    "\n",
    "        def get_vo_lookup(vos, dims):\n",
    "            qh = {}\n",
    "            for vo in vos:\n",
    "                qh[tuple(vo[d] for d in dims)] = vo[\"value\"]\n",
    "            return qh\n",
    "\n",
    "        for param, data in param_data.items():\n",
    "            max_year = max(map(lambda x: x[\"year\"], data[\"value\"]))\n",
    "            if max_year == max_allowed_year:\n",
    "                continue\n",
    "            max_year = data[\"value\"][-1][\"year\"]\n",
    "            if max_year == max_allowed_year:\n",
    "                continue\n",
    "            value_objects = self._get(param, True, year=max_year)\n",
    "            if data[\"cpi_inflated\"]:\n",
    "                # preserve order!\n",
    "                dims_to_match = sorted(\n",
    "                    [\n",
    "                        dim_name\n",
    "                        for dim_name in value_objects[0]\n",
    "                        if dim_name not in (\"year\", \"value\")\n",
    "                    ]\n",
    "                )\n",
    "                vo_lookup = get_vo_lookup(value_objects, dims_to_match)\n",
    "                rates = self.indexing_rates(param)\n",
    "                for ix, year in enumerate(\n",
    "                    range(max_year + 1, max_allowed_year + 1)\n",
    "                ):\n",
    "                    for vo in value_objects:\n",
    "                        dim_values = tuple(\n",
    "                            vo[dim_name] for dim_name in dims_to_match\n",
    "                        )\n",
    "                        v = vo_lookup[dim_values] * (\n",
    "                            1 + rates[max_year - min_allowed_year + ix]\n",
    "                        )\n",
    "                        v = np.round(v, 2) if v < 9e99 else 9e99\n",
    "                        adjustment[param].append(\n",
    "                            dict(vo, **{\"year\": year, \"value\": v})\n",
    "                        )\n",
    "                        vo_lookup[dim_values] = v\n",
    "            else:\n",
    "                for year in range(max_year, max_allowed_year + 1):\n",
    "                    for vo in value_objects:\n",
    "                        adjustment[param].append(dict(vo, **{\"year\": year}))\n",
    "        \n",
    "        self.array_first = True\n",
    "        self.adjust(adjustment)\n",
    "\n",
    "    def adjust_with_extend(self, params_or_path, raise_errors=False):\n",
    "        params = self.read_params(params_or_path)\n",
    "        curr_vals = self.specification()\n",
    "        for param, param_adj in params.items():\n",
    "            max_year = max(map(lambda x: x[\"year\"], param_adj))\n",
    "            for vo in curr_vals[param]:\n",
    "                if vo[\"year\"] > max_year:\n",
    "                    params[param].append(dict(vo, **{\"value\": None}))\n",
    "        self.array_first = False\n",
    "        self.adjust(params)\n",
    "        self.extend(params_to_extend=list(params.keys()))\n"
   ]
  },
  {
   "cell_type": "markdown",
   "metadata": {},
   "source": [
    "`IndexedParameters` isn't meant to stand on its own. `TaxParams` must implement it before it can be used."
   ]
  },
  {
   "cell_type": "code",
   "execution_count": 9,
   "metadata": {},
   "outputs": [],
   "source": [
    "class TaxParams(IndexedParameters):\n",
    "    schema = \"schema.json\"\n",
    "    defaults = \"defaults.json\"\n",
    "    field_map = {\"compatible_data\": fields.Nested(CompatibleDataSchema())}\n",
    "\n",
    "    def __init__(self, *args, **kwargs):\n",
    "        # Prepare the taxcalc inflation rates.\n",
    "        growfactors = taxcalc.GrowFactors()\n",
    "        self._inflation_rates = growfactors.price_inflation_rates(2013, 2028)\n",
    "        self._apply_clp_cpi_offset(2028 - 2013 + 1)\n",
    "        self._wage_growth_rates = growfactors.wage_growth_rates(2013, 2028)\n",
    "        super().__init__(*args, **kwargs)\n",
    "\n",
    "    def indexing_rates(self, param=None):\n",
    "        \"\"\"\n",
    "        See taxcalc.Parameters.indexing_rates.\n",
    "        \"\"\"\n",
    "        if param == \"_SS_Earnings_c\":\n",
    "            return self._wage_growth_rates\n",
    "        else:\n",
    "            return self._inflation_rates\n",
    "\n",
    "    def _apply_clp_cpi_offset(self, num_years):\n",
    "        \"\"\"\n",
    "        See taxcalc.Policy._apply_clp_cpi_offset\n",
    "\n",
    "        If you are curious about what's going on here, the\n",
    "        cpi_offset parameter is an approximation for the chained\n",
    "        cpi.\n",
    "        \"\"\"\n",
    "        cpi_offset = [0.0, 0.0, 0.0, 0.0, -0.0025]\n",
    "        if len(cpi_offset) < num_years:  # extrapolate last known value\n",
    "            cpi_offset = cpi_offset + cpi_offset[-1:] * (\n",
    "                num_years - len(cpi_offset)\n",
    "            )\n",
    "        for idx in range(0, num_years):\n",
    "            infrate = round(self._inflation_rates[idx] + cpi_offset[idx], 6)\n",
    "            self._inflation_rates[idx] = infrate\n"
   ]
  },
  {
   "cell_type": "code",
   "execution_count": 10,
   "metadata": {},
   "outputs": [
    {
     "name": "stdout",
     "output_type": "stream",
     "text": [
      "paramtools:  [[ 487.   3250.   5372.   6044.  ]\n",
      " [ 496.   3305.   5460.   6143.  ]\n",
      " [ 503.   3359.   5548.   6242.  ]\n",
      " [ 506.   3373.   5572.   6269.  ]\n",
      " [ 510.   3400.   5616.   6318.  ]\n",
      " [ 519.   3461.   5716.   6431.  ]\n",
      " [ 530.89 3540.26 5846.9  6578.27]\n",
      " [ 541.45 3610.71 5963.25 6709.18]\n",
      " [ 553.58 3691.59 6096.83 6859.47]\n",
      " [ 566.15 3775.39 6235.23 7015.18]\n",
      " [ 578.78 3859.58 6374.28 7171.62]\n",
      " [ 591.4  3943.72 6513.24 7327.96]\n",
      " [ 604.12 4028.51 6653.27 7485.51]\n",
      " [ 616.87 4113.51 6793.65 7643.45]\n",
      " [ 629.82 4199.89 6936.32 7803.96]\n",
      " [ 643.05 4288.09 7081.98 7967.84]] \n",
      "\n",
      "taxcalc:  [[ 487.   3250.   5372.   6044.  ]\n",
      " [ 496.   3305.   5460.   6143.  ]\n",
      " [ 503.   3359.   5548.   6242.  ]\n",
      " [ 506.   3373.   5572.   6269.  ]\n",
      " [ 510.   3400.   5616.   6318.  ]\n",
      " [ 519.   3461.   5716.   6431.  ]\n",
      " [ 530.89 3540.26 5846.9  6578.27]\n",
      " [ 541.45 3610.71 5963.25 6709.18]\n",
      " [ 553.58 3691.59 6096.83 6859.47]\n",
      " [ 566.15 3775.39 6235.23 7015.18]\n",
      " [ 578.78 3859.58 6374.28 7171.62]\n",
      " [ 591.4  3943.72 6513.24 7327.96]\n",
      " [ 604.12 4028.51 6653.27 7485.51]\n",
      " [ 616.87 4113.51 6793.65 7643.45]\n",
      " [ 629.82 4199.89 6936.32 7803.96]\n",
      " [ 643.05 4288.09 7081.98 7967.84]]\n"
     ]
    }
   ],
   "source": [
    "params = TaxParams()\n",
    "print(\"paramtools: \", params._EITC_c, \"\\n\")\n",
    "\n",
    "pol = taxcalc.Policy()\n",
    "print(\"taxcalc: \", pol._EITC_c)\n",
    "\n"
   ]
  },
  {
   "cell_type": "markdown",
   "metadata": {},
   "source": [
    "Let's confirm that the results are the same."
   ]
  },
  {
   "cell_type": "code",
   "execution_count": 11,
   "metadata": {
    "scrolled": true
   },
   "outputs": [
    {
     "name": "stdout",
     "output_type": "stream",
     "text": [
      "No errors were raised!\n"
     ]
    }
   ],
   "source": [
    "for param in params.specification():\n",
    "    np.testing.assert_allclose(getattr(params, param), getattr(pol, param))\n",
    "\n",
    "print(\"No errors were raised!\")"
   ]
  },
  {
   "cell_type": "markdown",
   "metadata": {},
   "source": [
    "Adjust\n",
    "----------\n",
    "\n",
    "The `IndexedParameters.adjust_with_extend` method should be used to adjust the parameter values. This method finds the maximum specified year for a parameter in a reform. It then removes all values set in later years. The new value is extended and indexed using the `extend` method.\\*\n",
    "\n",
    "Here's how you adjust the the Tax-Calculator parameters with `TaxParams` and with `taxcalc.Policy`. This adjustment is a component of the Brown-Khanna Grow American Incomes Now (GAIN) Act of 2017. The entire Tax-Calculator reform for this act is in [Tax-Calculator's repo][1].\n",
    "\n",
    "\\* This is a coarse approach. More care could be taken for adjustments that, for example, adjust a parameter's value in 2018 and in 2025. Right now the 2018 value is updated but it is ignored by the `extend` method. If anyone is interested in this functionality, I will happily implement it or help someone else implement it.\n",
    "\n",
    "[1]: https://github.com/hdoupe/Tax-Calculator/blob/master/taxcalc/reforms/BrownKhanna.json"
   ]
  },
  {
   "cell_type": "code",
   "execution_count": 12,
   "metadata": {},
   "outputs": [],
   "source": [
    "params.adjust_with_extend({\n",
    "    \"_EITC_c\": [\n",
    "        {\"EIC\": \"0kids\", \"year\": 2017, \"value\": 3000},\n",
    "        {\"EIC\": \"1kid\", \"year\": 2017, \"value\": 6528},\n",
    "        {\"EIC\": \"2kids\", \"year\": 2017, \"value\":10783},\n",
    "        {\"EIC\": \"3+kids\", \"year\": 2017, \"value\":12131}\n",
    "    ]\n",
    "})\n",
    "\n",
    "pol.implement_reform({\n",
    "    2017: {\n",
    "        \"_EITC_c\": [[3000, 6528, 10783, 12131]]\n",
    "    }\n",
    "})"
   ]
  },
  {
   "cell_type": "code",
   "execution_count": 13,
   "metadata": {},
   "outputs": [
    {
     "name": "stdout",
     "output_type": "stream",
     "text": [
      "paramtools:  [[  487.    3250.    5372.    6044.  ]\n",
      " [  496.    3305.    5460.    6143.  ]\n",
      " [  503.    3359.    5548.    6242.  ]\n",
      " [  506.    3373.    5572.    6269.  ]\n",
      " [ 3000.    6528.   10783.   12131.  ]\n",
      " [ 3056.7   6651.38 10986.8  12360.28]\n",
      " [ 3126.7   6803.7  11238.4  12643.33]\n",
      " [ 3188.92  6939.09 11462.04 12894.93]\n",
      " [ 3260.35  7094.53 11718.79 13183.78]\n",
      " [ 3334.36  7255.58 11984.81 13483.05]\n",
      " [ 3408.72  7417.38 12252.07 13783.72]\n",
      " [ 3483.03  7579.08 12519.17 14084.21]\n",
      " [ 3557.92  7742.03 12788.33 14387.02]\n",
      " [ 3632.99  7905.39 13058.16 14690.59]\n",
      " [ 3709.28  8071.4  13332.38 14999.09]\n",
      " [ 3787.17  8240.9  13612.36 15314.07]] \n",
      "\n",
      "taxcalc:  [[  487.    3250.    5372.    6044.  ]\n",
      " [  496.    3305.    5460.    6143.  ]\n",
      " [  503.    3359.    5548.    6242.  ]\n",
      " [  506.    3373.    5572.    6269.  ]\n",
      " [ 3000.    6528.   10783.   12131.  ]\n",
      " [ 3056.7   6651.38 10986.8  12360.28]\n",
      " [ 3126.7   6803.7  11238.4  12643.33]\n",
      " [ 3188.92  6939.09 11462.04 12894.93]\n",
      " [ 3260.35  7094.53 11718.79 13183.78]\n",
      " [ 3334.36  7255.58 11984.81 13483.05]\n",
      " [ 3408.72  7417.38 12252.07 13783.72]\n",
      " [ 3483.03  7579.08 12519.17 14084.21]\n",
      " [ 3557.92  7742.03 12788.33 14387.02]\n",
      " [ 3632.99  7905.39 13058.16 14690.59]\n",
      " [ 3709.28  8071.4  13332.38 14999.09]\n",
      " [ 3787.17  8240.9  13612.36 15314.07]]\n",
      "Updated params are the same!\n"
     ]
    }
   ],
   "source": [
    "print(\"paramtools: \", params._EITC_c, \"\\n\")\n",
    "\n",
    "print(\"taxcalc: \", pol._EITC_c)\n",
    "\n",
    "np.testing.assert_allclose(params._EITC_c, pol._EITC_c)\n",
    "\n",
    "print(\"Updated params are the same!\")"
   ]
  },
  {
   "cell_type": "markdown",
   "metadata": {},
   "source": [
    "I hope this tutorial helped you learn more about ParamTools and how to do Parameter Indexing with it. I'm eager for feedback on this tutorial. Feel free to open an issue or send me an email at henrymdoupe@gmail.com."
   ]
  },
  {
   "cell_type": "code",
   "execution_count": null,
   "metadata": {},
   "outputs": [],
   "source": []
  }
 ],
 "metadata": {
  "kernelspec": {
   "display_name": "Python (paramtools-dev)",
   "language": "python",
   "name": "paramtools-dev"
  },
  "language_info": {
   "codemirror_mode": {
    "name": "ipython",
    "version": 3
   },
   "file_extension": ".py",
   "mimetype": "text/x-python",
   "name": "python",
   "nbconvert_exporter": "python",
   "pygments_lexer": "ipython3",
   "version": "3.7.2"
  }
 },
 "nbformat": 4,
 "nbformat_minor": 2
}
